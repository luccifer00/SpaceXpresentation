{
  "metadata": {
    "kernelspec": {
      "name": "python",
      "display_name": "Python (Pyodide)",
      "language": "python"
    },
    "language_info": {
      "codemirror_mode": {
        "name": "python",
        "version": 3
      },
      "file_extension": ".py",
      "mimetype": "text/x-python",
      "name": "python",
      "nbconvert_exporter": "python",
      "pygments_lexer": "ipython3",
      "version": "3.8"
    }
  },
  "nbformat_minor": 4,
  "nbformat": 4,
  "cells": [
    {
      "cell_type": "markdown",
      "source": "<p style=\"text-align:center\">\n    <a href=\"https://skills.network/?utm_medium=Exinfluencer&utm_source=Exinfluencer&utm_content=000026UJ&utm_term=10006555&utm_id=NA-SkillsNetwork-Channel-SkillsNetworkCoursesIBMDS0321ENSkillsNetwork26802033-2022-01-01\" target=\"_blank\">\n    <img src=\"https://cf-courses-data.s3.us.cloud-object-storage.appdomain.cloud/assets/logos/SN_web_lightmode.png\" width=\"200\" alt=\"Skills Network Logo\"  />\n    </a>\n</p>\n",
      "metadata": {}
    },
    {
      "cell_type": "markdown",
      "source": "# **Launch Sites Locations Analysis with Folium**\n",
      "metadata": {}
    },
    {
      "cell_type": "markdown",
      "source": "Estimated time needed: **40** minutes\n",
      "metadata": {}
    },
    {
      "cell_type": "markdown",
      "source": "The launch success rate may depend on many factors such as payload mass, orbit type, and so on. It may also depend on the location and proximities of a launch site, i.e., the initial position of rocket trajectories. Finding an optimal location for building a launch site certainly involves many factors and hopefully we could discover some of the factors by analyzing the existing launch site locations.\n",
      "metadata": {}
    },
    {
      "cell_type": "markdown",
      "source": "In the previous exploratory data analysis labs, you have visualized the SpaceX launch dataset using `matplotlib` and `seaborn` and discovered some preliminary correlations between the launch site and success rates. In this lab, you will be performing more interactive visual analytics using `Folium`.\n",
      "metadata": {}
    },
    {
      "cell_type": "markdown",
      "source": "## Objectives\n",
      "metadata": {}
    },
    {
      "cell_type": "markdown",
      "source": "This lab contains the following tasks:\n\n*   **TASK 1:** Mark all launch sites on a map\n*   **TASK 2:** Mark the success/failed launches for each site on the map\n*   **TASK 3:** Calculate the distances between a launch site to its proximities\n\nAfter completed the above tasks, you should be able to find some geographical patterns about launch sites.\n",
      "metadata": {}
    },
    {
      "cell_type": "markdown",
      "source": "Let's first import required Python packages for this lab:\n",
      "metadata": {}
    },
    {
      "cell_type": "code",
      "source": "import piplite\nawait piplite.install(['folium'])\nawait piplite.install(['pandas'])",
      "metadata": {
        "trusted": true
      },
      "outputs": [],
      "execution_count": null
    },
    {
      "cell_type": "code",
      "source": "import folium\nimport pandas as pd",
      "metadata": {
        "trusted": true
      },
      "outputs": [],
      "execution_count": null
    },
    {
      "cell_type": "code",
      "source": "# Import folium MarkerCluster plugin\nfrom folium.plugins import MarkerCluster\n# Import folium MousePosition plugin\nfrom folium.plugins import MousePosition\n# Import folium DivIcon plugin\nfrom folium.features import DivIcon",
      "metadata": {
        "trusted": true
      },
      "outputs": [],
      "execution_count": null
    },
    {
      "cell_type": "markdown",
      "source": "If you need to refresh your memory about folium, you may download and refer to this previous folium lab:\n",
      "metadata": {}
    },
    {
      "cell_type": "markdown",
      "source": "[Generating Maps with Python](https://cf-courses-data.s3.us.cloud-object-storage.appdomain.cloud/IBM-DS0321EN-SkillsNetwork/labs/module\\_3/DV0101EN-3-5-1-Generating-Maps-in-Python-py-v2.0.ipynb)\n",
      "metadata": {}
    },
    {
      "cell_type": "code",
      "source": "## Task 1: Mark all launch sites on a map\n",
      "metadata": {
        "trusted": true
      },
      "outputs": [],
      "execution_count": null
    },
    {
      "cell_type": "markdown",
      "source": "First, let's try to add each site's location on a map using site's latitude and longitude coordinates\n",
      "metadata": {}
    },
    {
      "cell_type": "markdown",
      "source": "The following dataset with the name `spacex_launch_geo.csv` is an augmented dataset with latitude and longitude added for each site.\n",
      "metadata": {}
    },
    {
      "cell_type": "code",
      "source": "# Download and read the `spacex_launch_geo.csv`\nfrom js import fetch\nimport io\n\nURL = 'https://cf-courses-data.s3.us.cloud-object-storage.appdomain.cloud/IBM-DS0321EN-SkillsNetwork/datasets/spacex_launch_geo.csv'\nresp = await fetch(URL)\nspacex_csv_file = io.BytesIO((await resp.arrayBuffer()).to_py())\nspacex_df=pd.read_csv(spacex_csv_file)",
      "metadata": {
        "trusted": true
      },
      "outputs": [],
      "execution_count": null
    },
    {
      "cell_type": "markdown",
      "source": "Now, you can take a look at what are the coordinates for each site.\n",
      "metadata": {}
    },
    {
      "cell_type": "code",
      "source": "# Select relevant sub-columns: `Launch Site`, `Lat(Latitude)`, `Long(Longitude)`, `class`\nspacex_df = spacex_df[['Launch Site', 'Lat', 'Long', 'class']]\nlaunch_sites_df = spacex_df.groupby(['Launch Site'], as_index=False).first()\nlaunch_sites_df = launch_sites_df[['Launch Site', 'Lat', 'Long']]\nlaunch_sites_df",
      "metadata": {
        "trusted": true
      },
      "outputs": [],
      "execution_count": null
    },
    {
      "cell_type": "markdown",
      "source": "Above coordinates are just plain numbers that can not give you any intuitive insights about where are those launch sites. If you are very good at geography, you can interpret those numbers directly in your mind. If not, that's fine too. Let's visualize those locations by pinning them on a map.\n",
      "metadata": {}
    },
    {
      "cell_type": "markdown",
      "source": "We first need to create a folium `Map` object, with an initial center location to be NASA Johnson Space Center at Houston, Texas.\n",
      "metadata": {}
    },
    {
      "cell_type": "code",
      "source": "# Start location is NASA Johnson Space Center\nnasa_coordinate = [29.559684888503615, -95.0830971930759]\nsite_map = folium.Map(location=nasa_coordinate, zoom_start=10)",
      "metadata": {
        "trusted": true
      },
      "outputs": [],
      "execution_count": null
    },
    {
      "cell_type": "markdown",
      "source": "We could use `folium.Circle` to add a highlighted circle area with a text label on a specific coordinate. For example,\n",
      "metadata": {}
    },
    {
      "cell_type": "code",
      "source": "# Create a blue circle at NASA Johnson Space Center's coordinate with a popup label showing its name\ncircle = folium.Circle(nasa_coordinate, radius=1000, color='#d35400', fill=True).add_child(folium.Popup('NASA Johnson Space Center'))\n# Create a blue circle at NASA Johnson Space Center's coordinate with a icon showing its name\nmarker = folium.map.Marker(\n    nasa_coordinate,\n    # Create an icon as a text label\n    icon=DivIcon(\n        icon_size=(20,20),\n        icon_anchor=(0,0),\n        html='<div style=\"font-size: 12; color:#d35400;\"><b>%s</b></div>' % 'NASA JSC',\n        )\n    )\nsite_map.add_child(circle)\nsite_map.add_child(marker)",
      "metadata": {
        "trusted": true
      },
      "outputs": [],
      "execution_count": null
    },
    {
      "cell_type": "markdown",
      "source": "and you should find a small yellow circle near the city of Houston and you can zoom-in to see a larger circle.\n",
      "metadata": {}
    },
    {
      "cell_type": "markdown",
      "source": "Now, let's add a circle for each launch site in data frame `launch_sites`\n",
      "metadata": {}
    },
    {
      "cell_type": "markdown",
      "source": "*TODO:*  Create and add `folium.Circle` and `folium.Marker` for each launch site on the site map\n",
      "metadata": {}
    },
    {
      "cell_type": "markdown",
      "source": "An example of folium.Circle:\n",
      "metadata": {}
    },
    {
      "cell_type": "markdown",
      "source": "`folium.Circle(coordinate, radius=1000, color='#000000', fill=True).add_child(folium.Popup(...))`\n",
      "metadata": {}
    },
    {
      "cell_type": "markdown",
      "source": "An example of folium.Marker:\n",
      "metadata": {}
    },
    {
      "cell_type": "markdown",
      "source": "`folium.map.Marker(coordinate, icon=DivIcon(icon_size=(20,20),icon_anchor=(0,0), html='<div style=\"font-size: 12; color:#d35400;\"><b>%s</b></div>' % 'label', ))`\n",
      "metadata": {}
    },
    {
      "cell_type": "code",
      "source": "CCAFSLC = [28.562302, -80.577356]\nCCAFSSLC = [28.563197, -80.576820]\nKSCLC = [28.573255, -80.646895]\nVAFBSLC = [34.632834,\t-120.610745]\n\n\nsite_map = folium.Map(location= CCAFSLC, zoom_start=4.45)\n# For each launch site, add a Circle object based on its coordinate (Lat, Long) values. In addition, add Launch site name as a popup label\n\nCCAFSLC_circle = folium.Circle(CCAFSLC, radius=1000, color='#d35400', fill=True).add_child(folium.Popup('CCAFS LC-40'))\nCCAFSSLC_circle = folium.Circle(CCAFSSLC, radius=1000, color='#d35400', fill=True).add_child(folium.Popup('CCAFS SLC-40'))\nKSCLC_circle = folium.Circle(KSCLC, radius=1000, color='#d35400', fill=True).add_child(folium.Popup('KSC LC-39A'))\nVAFBSLC_circle = folium.Circle(VAFBSLC, radius=1000, color='#d35400', fill=True).add_child(folium.Popup('VAFB SLC-4E'))\n\nCCAFSLC_marker = folium.map.Marker(\n    CCAFSLC,\n    # Create an icon as a text label\n    icon=DivIcon(\n        icon_size=(20,20),\n        icon_anchor=(0,0),\n        html='<div style=\"font-size: 12; color:#d35400;\"><b>%s</b></div>' % 'CCAFS LC-40',\n        )\n    )\n\n\nCCAFSSLC_marker = folium.map.Marker(\n    CCAFSSLC,\n    # Create an icon as a text label\n    icon=DivIcon(\n        icon_size=(20,20),\n        icon_anchor=(0,0),\n        html='<div style=\"font-size: 12; color:#d35400;\"><b>%s</b></div>' % 'CCAFS SLC-40',\n        )\n    )\n\n\nKSCLC_marker = folium.map.Marker(\n    KSCLC,\n    # Create an icon as a text label\n    icon=DivIcon(\n        icon_size=(20,20),\n        icon_anchor=(0,0),\n        html='<div style=\"font-size: 12; color:#d35400;\"><b>%s</b></div>' % 'KSC LC-39A',\n        )\n    )\n\n\nVAFBSLC_marker = folium.map.Marker(\n    VAFBSLC,\n    # Create an icon as a text label\n    icon=DivIcon(\n        icon_size=(20,20),\n        icon_anchor=(0,0),\n        html='<div style=\"font-size: 12; color:#d35400;\"><b>%s</b></div>' % 'VAFB SLC-4E',\n        )\n    )\n\n\nsite_map.add_child(CCAFSLC_circle)\nsite_map.add_child(CCAFSLC_marker)\n\nsite_map.add_child(CCAFSSLC_circle)\nsite_map.add_child(CCAFSSLC_marker)\n\nsite_map.add_child(KSCLC_circle)\nsite_map.add_child(KSCLC_marker)\n\nsite_map.add_child(VAFBSLC_circle)\nsite_map.add_child(VAFBSLC_marker)",
      "metadata": {
        "trusted": true
      },
      "outputs": [],
      "execution_count": null
    },
    {
      "cell_type": "markdown",
      "source": "The generated map with marked launch sites should look similar to the following:\n",
      "metadata": {}
    },
    {
      "cell_type": "markdown",
      "source": "<center>\n    <img src=\"https://cf-courses-data.s3.us.cloud-object-storage.appdomain.cloud/IBM-DS0321EN-SkillsNetwork/labs/module_3/images/launch_site_markers.png\">\n</center>\n",
      "metadata": {}
    },
    {
      "cell_type": "markdown",
      "source": "Now, you can explore the map by zoom-in/out the marked areas\n, and try to answer the following questions:\n\n*   Are all launch sites in proximity to the Equator line?\n*   Are all launch sites in very close proximity to the coast?\n\nAlso please try to explain your findings.\n",
      "metadata": {}
    },
    {
      "cell_type": "markdown",
      "source": "ANSWER:\n\nAll launch sites are not in close proximity to the equator line because each of the launch sites have a latitude of over 0 degrees which means they are above the equator.\n\nAs seen on the map, all launch sites have very close proximity to the coast because they are located in cities close to the Pacific and Atlantic Ocean.",
      "metadata": {}
    },
    {
      "cell_type": "code",
      "source": "# Task 2: Mark the success/failed launches for each site on the map\nspacex_df.rename(columns = {'class' : 'Class'}, inplace = True)\nspacex_df.tail(10)",
      "metadata": {
        "trusted": true
      },
      "outputs": [],
      "execution_count": null
    },
    {
      "cell_type": "markdown",
      "source": "Next, let's try to enhance the map by adding the launch outcomes for each site, and see which sites have high success rates.\nRecall that data frame spacex_df has detailed launch records, and the `class` column indicates if this launch was successful or not\n",
      "metadata": {}
    },
    {
      "cell_type": "code",
      "source": "spacex_df.tail(10)",
      "metadata": {
        "trusted": true
      },
      "outputs": [],
      "execution_count": null
    },
    {
      "cell_type": "markdown",
      "source": "Next, let's create markers for all launch records.\nIf a launch was successful `(class=1)`, then we use a green marker and if a launch was failed, we use a red marker `(class=0)`\n",
      "metadata": {}
    },
    {
      "cell_type": "markdown",
      "source": "Note that a launch only happens in one of the four launch sites, which means many launch records will have the exact same coordinate. Marker clusters can be a good way to simplify a map containing many markers having the same coordinate.\n",
      "metadata": {}
    },
    {
      "cell_type": "markdown",
      "source": "Let's first create a `MarkerCluster` object\n",
      "metadata": {}
    },
    {
      "cell_type": "code",
      "source": "marker_cluster = MarkerCluster()\n",
      "metadata": {
        "trusted": true
      },
      "outputs": [],
      "execution_count": null
    },
    {
      "cell_type": "markdown",
      "source": "*TODO:* Create a new column in `launch_sites` dataframe called `marker_color` to store the marker colors based on the `class` value\n",
      "metadata": {}
    },
    {
      "cell_type": "code",
      "source": "# Apply a function to check the value of `class` column\n# If class=1, marker_color value will be green\n# If class=0, marker_color value will be red\ndef assign_marker_color(launch_outcome):\n    if launch_outcome == 1:\n        return 'green'\n    else:\n        return 'red'\n    \nspacex_df['marker_color'] = spacex_df['Class'].apply(assign_marker_color)\nspacex_df.tail(10)",
      "metadata": {
        "trusted": true
      },
      "outputs": [],
      "execution_count": null
    },
    {
      "cell_type": "markdown",
      "source": "*TODO:* For each launch result in `spacex_df` data frame, add a `folium.Marker` to `marker_cluster`\n",
      "metadata": {}
    },
    {
      "cell_type": "code",
      "source": "# Add marker_cluster to current site_map\nsite_map.add_child(marker_cluster)\n\n# for each row in spacex_df data frame\n# create a Marker object with its coordinate\n# and customize the Marker's icon property to indicate if this launch was successed or failed, \n# e.g., icon=folium.Icon(color='white', icon_color=row['marker_color']\nfor index, record in spacex_df.iterrows():\n    # Create and add a Marker cluster to the site map\n    marker = folium.Marker([record['Lat'], record['Long']], \n                  icon=folium.Icon(color='white', icon_color=record['marker_color']))\n    marker_cluster.add_child(marker)\nsite_map",
      "metadata": {
        "trusted": true
      },
      "outputs": [],
      "execution_count": null
    },
    {
      "cell_type": "markdown",
      "source": "Your updated map may look like the following screenshots:\n",
      "metadata": {}
    },
    {
      "cell_type": "markdown",
      "source": "<center>\n    <img src=\"https://cf-courses-data.s3.us.cloud-object-storage.appdomain.cloud/IBM-DS0321EN-SkillsNetwork/labs/module_3/images/launch_site_marker_cluster.png\">\n</center>\n",
      "metadata": {}
    },
    {
      "cell_type": "markdown",
      "source": "<center>\n    <img src=\"https://cf-courses-data.s3.us.cloud-object-storage.appdomain.cloud/IBM-DS0321EN-SkillsNetwork/labs/module_3/images/launch_site_marker_cluster_zoomed.png\">\n</center>\n",
      "metadata": {}
    },
    {
      "cell_type": "markdown",
      "source": "From the color-labeled markers in marker clusters, you should be able to easily identify which launch sites have relatively high success rates.\n",
      "metadata": {}
    },
    {
      "cell_type": "code",
      "source": "# TASK 3: Calculate the distances between a launch site to its proximities\n",
      "metadata": {
        "trusted": true
      },
      "outputs": [],
      "execution_count": null
    },
    {
      "cell_type": "markdown",
      "source": "Next, we need to explore and analyze the proximities of launch sites.\n",
      "metadata": {}
    },
    {
      "cell_type": "markdown",
      "source": "Let's first add a `MousePosition` on the map to get coordinate for a mouse over a point on the map. As such, while you are exploring the map, you can easily find the coordinates of any points of interests (such as railway)\n",
      "metadata": {}
    },
    {
      "cell_type": "code",
      "source": "# Add Mouse Position to get the coordinate (Lat, Long) for a mouse over on the map\nformatter = \"function(num) {return L.Util.formatNum(num, 5);};\"\nmouse_position = MousePosition(\n    position='topright',\n    separator=' Long: ',\n    empty_string='NaN',\n    lng_first=False,\n    num_digits=20,\n    prefix='Lat:',\n    lat_formatter=formatter,\n    lng_formatter=formatter,\n)\n\nsite_map.add_child(mouse_position)\nsite_map",
      "metadata": {
        "trusted": true
      },
      "outputs": [],
      "execution_count": null
    },
    {
      "cell_type": "markdown",
      "source": "Now zoom in to a launch site and explore its proximity to see if you can easily find any railway, highway, coastline, etc. Move your mouse to these points and mark down their coordinates (shown on the top-left) in order to the distance to the launch site.\n",
      "metadata": {}
    },
    {
      "cell_type": "markdown",
      "source": "Now zoom in to a launch site and explore its proximity to see if you can easily find any railway, highway, coastline, etc. Move your mouse to these points and mark down their coordinates (shown on the top-left) in order to the distance to the launch site.\n",
      "metadata": {}
    },
    {
      "cell_type": "code",
      "source": "from math import sin, cos, sqrt, atan2, radians\n\ndef calculate_distance(lat1, lon1, lat2, lon2):\n    # approximate radius of earth in km\n    R = 6373.0\n\n    lat1 = radians(lat1)\n    lon1 = radians(lon1)\n    lat2 = radians(lat2)\n    lon2 = radians(lon2)\n\n    dlon = lon2 - lon1\n    dlat = lat2 - lat1\n\n    a = sin(dlat / 2)**2 + cos(lat1) * cos(lat2) * sin(dlon / 2)**2\n    c = 2 * atan2(sqrt(a), sqrt(1 - a))\n\n    distance = R * c\n    return distance",
      "metadata": {
        "trusted": true
      },
      "outputs": [],
      "execution_count": null
    },
    {
      "cell_type": "markdown",
      "source": "*TODO:* Mark down a point on the closest coastline using MousePosition and calculate the distance between the coastline point and the launch site.\n",
      "metadata": {}
    },
    {
      "cell_type": "code",
      "source": "# find coordinate of the closet coastline\n# e.g.,: Lat: 28.56367  Lon: -80.57163\n# distance_coastline = calculate_distance(launch_site_lat, launch_site_lon, coastline_lat, coastline_lon)\n\ncoastline = [28.563197, -80.567600]\ncoastline_lat = coastline[0]\ncoastline_lon =  coastline[1]\n\nCCAFSSLC_lat = CCAFSSLC[0]\nCCAFSSLC_lon = CCAFSSLC[1]\n\ndistance_coastline = calculate_distance(CCAFSSLC_lat, CCAFSSLC_lon, coastline_lat, coastline_lon)",
      "metadata": {
        "trusted": true
      },
      "outputs": [],
      "execution_count": null
    },
    {
      "cell_type": "code",
      "source": "# Create and add a folium.Marker on your selected closest coastline point on the map\n# Display the distance between coastline point and launch site using the icon property \n# for example\n# distance_marker = folium.Marker(\n#    coordinate,\n#    icon=DivIcon(\n#        icon_size=(20,20),\n#        icon_anchor=(0,0),\n#        html='<div style=\"font-size: 12; color:#d35400;\"><b>%s</b></div>' % \"{:10.2f} KM\".format(distance),\n#        )\n#    )\nlat1 = 28.57255\nlon2 = -80.58525\nmarker = folium.Marker(location=[float(lat1), float(lon2)], icon=folium.Icon(icon_size=(80,80),color = \"blue\"))\n                                \nsite_map.add_child(marker)\nsite_map",
      "metadata": {
        "trusted": true
      },
      "outputs": [],
      "execution_count": null
    },
    {
      "cell_type": "markdown",
      "source": "*TODO:* Draw a `PolyLine` between a launch site to the selected coastline point\n",
      "metadata": {}
    },
    {
      "cell_type": "code",
      "source": "# Create a `folium.PolyLine` object using the coastline coordinates and launch site coordinate\n# lines=folium.PolyLine(locations=coordinates, weight=1)\n\nm = folium.Map(location=[37.4601908, 126.4406957],\n               zoom_start=15)\n\nplace_lat = [37.4601928, 37.4593108, 37.4641108, 37.4611508]\nplace_lng = [-126.4406957, -126.4432957, -126.4476917, -126.4423957]\n\npoints = []\nfor i in range(len(place_lat)):\n    points.append([place_lat[i], place_lng[i]])\n\nfor index,lat in enumerate(place_lat):\n    folium.Marker([lat, \n                   place_lng[index]],icon = folium.Icon(icon_size=(80,80), color='red',icon='plus')).add_to(m)\nfolium.PolyLine(points, color='red')\n\nsite_map.add_child(m)",
      "metadata": {
        "trusted": true
      },
      "outputs": [],
      "execution_count": null
    },
    {
      "cell_type": "markdown",
      "source": "Your updated map with distance line should look like the following screenshot:\n",
      "metadata": {}
    },
    {
      "cell_type": "markdown",
      "source": "<center>\n    <img src=\"https://cf-courses-data.s3.us.cloud-object-storage.appdomain.cloud/IBM-DS0321EN-SkillsNetwork/labs/module_3/images/launch_site_marker_distance.png\">\n</center>\n",
      "metadata": {}
    },
    {
      "cell_type": "markdown",
      "source": "*TODO:* Similarly, you can draw a line betwee a launch site to its closest city, railway, highway, etc. You need to use `MousePosition` to find the their coordinates on the map first\n",
      "metadata": {}
    },
    {
      "cell_type": "markdown",
      "source": "A railway map symbol may look like this:\n",
      "metadata": {}
    },
    {
      "cell_type": "markdown",
      "source": "<center>\n    <img src=\"https://cf-courses-data.s3.us.cloud-object-storage.appdomain.cloud/IBM-DS0321EN-SkillsNetwork/labs/module_3/images/railway.png\">\n</center>\n",
      "metadata": {}
    },
    {
      "cell_type": "markdown",
      "source": "A highway map symbol may look like this:\n",
      "metadata": {}
    },
    {
      "cell_type": "markdown",
      "source": "<center>\n    <img src=\"https://cf-courses-data.s3.us.cloud-object-storage.appdomain.cloud/IBM-DS0321EN-SkillsNetwork/labs/module_3/images/highway.png\">\n</center>\n",
      "metadata": {}
    },
    {
      "cell_type": "markdown",
      "source": "A city map symbol may look like this:\n",
      "metadata": {}
    },
    {
      "cell_type": "markdown",
      "source": "<center>\n    <img src=\"https://cf-courses-data.s3.us.cloud-object-storage.appdomain.cloud/IBM-DS0321EN-SkillsNetwork/labs/module_3/images/city.png\">\n</center>\n",
      "metadata": {}
    },
    {
      "cell_type": "code",
      "source": "# Create a marker with distance to a closest city, railway, highway, etc.\n# Draw a line between the marker to the launch site\ndistance_marker = folium.Marker(\n   coastline,\n   icon=DivIcon(\n       icon_size=(20,20),\n       icon_anchor=(0,0),\n       html='<div style=\"font-size: 12; color:#d35400;\"><b>%s</b></div>' % \"{:10.2f} KM\".format(distance_coastline),\n       )\n   )\n\nsite_map.add_child(distance_marker)\n",
      "metadata": {
        "trusted": true
      },
      "outputs": [],
      "execution_count": null
    },
    {
      "cell_type": "code",
      "source": "# Coordinates for railway, highway and city close to CCAFS SLC 40 launch site\nCCAFS_SLC_40_railway = [28.572160, -80.585260]\nCCAFS_SLC_40_highway = [28.563360, -80.570790]\nCCAFS_SLC_40_city = [28.098940, -80.64240]\n\n# Coordinates for coastline, railway, highway and city close to VAFB SLC-4E launch site\nVAFBSLC_lat = VAFBSLC[0]\nVAFBSLC_lon = VAFBSLC[1]\n\nVAFB_SLC_4E_railway = [34.63293, -120.624970]\nVAFB_SLC_4E_highway = [34.63872, -120.458180]\nVAFB_SLC_4E_city = [34.94449, -120.436140]\nlos_angeles_coastline = [34.63257, -120.627310]\n\n\n# railway, highway and city longititude and latitiude close to CCAFS SLC 40 launch site\nCCAFS_SLC_40_railway_lat = CCAFS_SLC_40_railway[0]\nCCAFS_SLC_40_railway_lon =  CCAFS_SLC_40_railway[1]\n\nCCAFS_SLC_40_highway_lat = CCAFS_SLC_40_highway[0]\nCCAFS_SLC_40_highway_lon =  CCAFS_SLC_40_highway[1]\n\nCCAFS_SLC_40_city_lat = CCAFS_SLC_40_city[0]\nCCAFS_SLC_40_city_lon =  CCAFS_SLC_40_city[1]\n\n\n# coastline, railway, highway and city longititude and latitiude close to VAFB SLC-4E launch site\nVAFB_SLC_4E_railway_lat = VAFB_SLC_4E_railway[0]\nVAFB_SLC_4E_railway_lon =  VAFB_SLC_4E_railway[1]\n\nVAFB_SLC_4E_highway_lat = VAFB_SLC_4E_highway[0]\nVAFB_SLC_4E_highway_lon =  VAFB_SLC_4E_highway[1]\n\nVAFB_SLC_4E_city_lat = VAFB_SLC_4E_city[0]\nVAFB_SLC_4E_city_lon =  VAFB_SLC_4E_city[1]\n\nlos_angeles_coastline_lat = los_angeles_coastline[0]\nlos_angeles_coastline_lon = los_angeles_coastline[1]\n\n\n\n\n# Calculate distance from railway, highway and city from CCAFS SLC 40 launch site\nCCAFS_SLC_40_distance_railway = calculate_distance(CCAFSSLC_lat, CCAFSSLC_lon, CCAFS_SLC_40_railway_lat, CCAFS_SLC_40_railway_lon)\nCCAFS_SLC_40_distance_highway = calculate_distance(CCAFSSLC_lat, CCAFSSLC_lon, CCAFS_SLC_40_highway_lat, CCAFS_SLC_40_highway_lon)\nCCAFS_SLC_40_distance_city = calculate_distance(CCAFSSLC_lat, CCAFSSLC_lon, CCAFS_SLC_40_city_lat, CCAFS_SLC_40_city_lon)\n\n# Calculate distance from coastline,railway, highway and city from VAFB SLC-4E launch site\nVAFB_SLC_4E_distance_coastline = calculate_distance(VAFBSLC_lat, VAFBSLC_lon, los_angeles_coastline_lat, los_angeles_coastline_lon)\nVAFB_SLC_4E_distance_railway = calculate_distance(VAFBSLC_lat, VAFBSLC_lon, VAFB_SLC_4E_railway_lat, VAFB_SLC_4E_railway_lon)\nVAFB_SLC_4E_distance_highway = calculate_distance(VAFBSLC_lat, VAFBSLC_lon, VAFB_SLC_4E_highway_lat, VAFB_SLC_4E_highway_lon)\nVAFB_SLC_4E_distance_city = calculate_distance(VAFBSLC_lat, VAFBSLC_lon, VAFB_SLC_4E_city_lat, VAFB_SLC_4E_city_lon)\n\n\n# Create marker for railway, hightway and city close to CCAFS SLC 40 launch site\nCCAFS_SLC_40_railway_marker = folium.Marker(\n   CCAFS_SLC_40_railway,\n   icon=DivIcon(\n       icon_size=(20,20),\n       icon_anchor=(0,0),\n       html='<div style=\"font-size: 12; color:#d35400;\"><b>%s</b></div>' % \"{:10.2f} KM\".format(CCAFS_SLC_40_distance_railway),\n       )\n   )\n\nCCAFS_SLC_40_highway_marker = folium.Marker(\n   CCAFS_SLC_40_highway,\n   icon=DivIcon(\n       icon_size=(20,20),\n       icon_anchor=(0,0),\n       html='<div style=\"font-size: 12; color:#d35400;\"><b>%s</b></div>' % \"{:10.2f} KM\".format(CCAFS_SLC_40_distance_highway),\n       )\n   )\n\nCCAFS_SLC_40_city_marker = folium.Marker(\n   CCAFS_SLC_40_city,\n   icon=DivIcon(\n       icon_size=(20,20),\n       icon_anchor=(0,0),\n       html='<div style=\"font-size: 12; color:#d35400;\"><b>%s</b></div>' % \"{:10.2f} KM\".format(CCAFS_SLC_40_distance_city),\n       )\n   )\n\n\n\n\n# Create marker for coastline, railway, highway and city close to VAFB SLC-4E launch site\n\nVAFB_SLC_4E_coastline_marker = folium.Marker(\n   los_angeles_coastline,\n   icon=DivIcon(\n       icon_size=(20,20),\n       icon_anchor=(0,0),\n       html='<div style=\"font-size: 12; color:#d35400;\"><b>%s</b></div>' % \"{:10.2f} KM\".format(VAFB_SLC_4E_distance_coastline),\n       )\n   )\n\nVAFB_SLC_4E_railway_marker = folium.Marker(\n   VAFB_SLC_4E_railway,\n   icon=DivIcon(\n       icon_size=(20,20),\n       icon_anchor=(0,0),\n       html='<div style=\"font-size: 12; color:#d35400;\"><b>%s</b></div>' % \"{:10.2f} KM\".format(VAFB_SLC_4E_distance_railway),\n       )\n   )\n\nVAFB_SLC_4E_highway_marker = folium.Marker(\n   VAFB_SLC_4E_highway,\n   icon=DivIcon(\n       icon_size=(20,20),\n       icon_anchor=(0,0),\n       html='<div style=\"font-size: 12; color:#d35400;\"><b>%s</b></div>' % \"{:10.2f} KM\".format(VAFB_SLC_4E_distance_highway),\n       )\n   )\n\nVAFB_SLC_4E_city_marker = folium.Marker(\n   VAFB_SLC_4E_city,\n   icon=DivIcon(\n       icon_size=(20,20),\n       icon_anchor=(0,0),\n       html='<div style=\"font-size: 12; color:#d35400;\"><b>%s</b></div>' % \"{:10.2f} KM\".format(VAFB_SLC_4E_distance_city),\n       )\n   )\n\n\n\n\n\n# Draw a line between the markers close to CCAFS SLC 40 launch site\n\nCCAFS_SLC_40_railway_lines = folium.PolyLine(locations=[CCAFSSLC, CCAFS_SLC_40_railway], weight=1, color = 'blue')\nCCAFS_SLC_40_highway_lines = folium.PolyLine(locations=[CCAFSSLC, CCAFS_SLC_40_highway], weight=1, color = 'blue')\nCCAFS_SLC_40_city_lines = folium.PolyLine(locations=[CCAFSSLC, CCAFS_SLC_40_city], weight=1, color = 'blue')\n\n\n# Draw a line between the markers close to VAFB SLC 4E launch site\nVAFB_SLC_4E_coast_lines = folium.PolyLine(locations=[VAFBSLC, los_angeles_coastline], weight=1, color = 'black')\nVAFB_SLC_4E_railway_lines = folium.PolyLine(locations=[VAFBSLC, VAFB_SLC_4E_railway], weight=1, color = 'black')\nVAFB_SLC_4E_highway_lines = folium.PolyLine(locations=[VAFBSLC, VAFB_SLC_4E_highway], weight=1, color = 'black')\nVAFB_SLC_4E_city_lines = folium.PolyLine(locations=[VAFBSLC, VAFB_SLC_4E_city], weight=1, color = 'black')\n\n\n\n# Add markers and lines close to CCAFS SLC 40 launch site to map\nsite_map.add_child(CCAFS_SLC_40_railway_marker)\nsite_map.add_child(CCAFS_SLC_40_railway_lines)\n\nsite_map.add_child(CCAFS_SLC_40_highway_marker)\nsite_map.add_child(CCAFS_SLC_40_highway_lines)\n\nsite_map.add_child(CCAFS_SLC_40_city_marker)\nsite_map.add_child(CCAFS_SLC_40_city_lines)\n\n\n\n# Add markers and lines close to VAFB SLC 4E launch site to map\n\nsite_map.add_child(VAFB_SLC_4E_coastline_marker)\nsite_map.add_child(VAFB_SLC_4E_coast_lines)\n\nsite_map.add_child(VAFB_SLC_4E_railway_marker)\nsite_map.add_child(VAFB_SLC_4E_railway_lines)\n\nsite_map.add_child(VAFB_SLC_4E_highway_marker)\nsite_map.add_child(VAFB_SLC_4E_highway_lines)\n\nsite_map.add_child(VAFB_SLC_4E_city_marker)\nsite_map.add_child(VAFB_SLC_4E_city_lines)",
      "metadata": {
        "trusted": true
      },
      "outputs": [],
      "execution_count": null
    },
    {
      "cell_type": "code",
      "source": "",
      "metadata": {
        "trusted": true
      },
      "outputs": [],
      "execution_count": null
    },
    {
      "cell_type": "markdown",
      "source": "After you plot distance lines to the proximities, you can answer the following questions easily:\n\n*   Are launch sites in close proximity to railways?\n*   Are launch sites in close proximity to highways?\n*   Are launch sites in close proximity to coastline?\n*   Do launch sites keep certain distance away from cities?\n\nAlso please try to explain your findings.\n",
      "metadata": {}
    },
    {
      "cell_type": "markdown",
      "source": "# Next Steps:\n\nNow you have discovered many interesting insights related to the launch sites' location using folium, in a very interactive way. Next, you will need to build a dashboard using Ploty Dash on detailed launch records.\n",
      "metadata": {}
    },
    {
      "cell_type": "markdown",
      "source": "## Authors\n",
      "metadata": {}
    },
    {
      "cell_type": "markdown",
      "source": "[Pratiksha Verma](https://www.linkedin.com/in/pratiksha-verma-6487561b1/?utm_medium=Exinfluencer&utm_source=Exinfluencer&utm_content=000026UJ&utm_term=10006555&utm_id=NA-SkillsNetwork-Channel-SkillsNetworkCoursesIBMDS0321ENSkillsNetwork865-2022-01-01)\n",
      "metadata": {}
    },
    {
      "cell_type": "markdown",
      "source": "## Change Log\n",
      "metadata": {}
    },
    {
      "cell_type": "markdown",
      "source": "| Date (YYYY-MM-DD) | Version | Changed By      | Change Description      |\n| ----------------- | ------- | -------------   | ----------------------- |\n| 2022-11-09        | 1.0     | Pratiksha Verma | Converted initial version to Jupyterlite|\n",
      "metadata": {}
    },
    {
      "cell_type": "markdown",
      "source": "### <h3 align=\"center\"> IBM Corporation 2022. All rights reserved. <h3/>\n",
      "metadata": {}
    }
  ]
}
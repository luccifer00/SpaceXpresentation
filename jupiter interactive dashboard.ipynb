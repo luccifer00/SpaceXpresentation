{
  "metadata": {
    "kernelspec": {
      "name": "python",
      "display_name": "Python (Pyodide)",
      "language": "python"
    },
    "language_info": {
      "codemirror_mode": {
        "name": "python",
        "version": 3
      },
      "file_extension": ".py",
      "mimetype": "text/x-python",
      "name": "python",
      "nbconvert_exporter": "python",
      "pygments_lexer": "ipython3",
      "version": "3.8"
    }
  },
  "nbformat_minor": 4,
  "nbformat": 4,
  "cells": [
    {
      "cell_type": "markdown",
      "source": "<p style=\"text-align:center\">\n    <a href=\"https://skills.network/?utm_medium=Exinfluencer&utm_source=Exinfluencer&utm_content=000026UJ&utm_term=10006555&utm_id=NA-SkillsNetwork-Channel-SkillsNetworkCoursesIBMDS0321ENSkillsNetwork26802033-2022-01-01\" target=\"_blank\">\n    <img src=\"https://cf-courses-data.s3.us.cloud-object-storage.appdomain.cloud/assets/logos/SN_web_lightmode.png\" width=\"200\" alt=\"Skills Network Logo\"  />\n    </a>\n</p>\n",
      "metadata": {}
    },
    {
      "cell_type": "markdown",
      "source": "# Interactive Dashboard with Ploty Dash",
      "metadata": {}
    },
    {
      "cell_type": "code",
      "source": "# Import required libraries\n## also i had to install in terminal: \"pip install more_itertools\"\nimport pandas as pd\nimport dash\nimport dash_html_components as html\nimport dash_core_components as dcc\nfrom dash.dependencies import Input, Output\nimport plotly.express as px\n\n# Read the airline data into pandas dataframe\nspacex_df = pd.read_csv(\"spacex_launch_dash.csv\")\nmax_payload = spacex_df['Payload Mass (kg)'].max()\nmin_payload = spacex_df['Payload Mass (kg)'].min()\n\n# Create a dash application\napp = dash.Dash(__name__)\n\n# Create an app layout\napp.layout = html.Div(children=[ html.H1('SpaceX Launch Records Dashboard',\n                                        style={'textAlign': 'center', 'color': '#503D36',\n                                               'font-size': 40}),\n                                # TASK 1: Add a dropdown list to enable Launch Site selection\n                                # The default select value is for ALL sites\n                                dcc.Dropdown(id='site-dropdown', options=[\n                                                                {'label': 'All Sites', 'value': 'ALL'},\n                                                                {'label': 'CCAFS LC-40', 'value': 'CCAFS LC-40'},\n                                                                {'label': 'VAFB SLC-4E', 'value': 'VAFB SLC-4E'},\n                                                                {'label': 'KSC LC-39A', 'value': 'KSC LC-39A'},\n                                                                {'label': 'CCAFS SLC-40', 'value': 'CCAFS SLC-40'},\n                                                                                            ],\n                                                                    value='ALL',\n                                                                    placeholder=\"place holder here\",\n                                                                    searchable=True),\n                                html.Br(),\n\n                                # TASK 2: Add a pie chart to show the total successful launches count for all sites\n                                # If a specific launch site was selected, show the Success vs. Failed counts for the site\n                                html.Div(dcc.Graph(id='success-pie-chart')),\n                                html.Br(),\n\n                                html.P(\"Payload range (Kg):\"),\n                                # TASK 3: Add a slider to select payload range\n                                dcc.RangeSlider(id='payload-slider', min=0, max=10000, step=1000,\n                                                                    marks={0: {'label': '0'},\n                                                                        2500: {'label': '2500'},\n                                                                        5000: {'label': '5000'},\n                                                                        7500: {'label': '7500'},\n                                                                        10000: {'label': '10000'}},\n                                                                    value=[min_payload, max_payload]),\n\n                                # TASK 4: Add a scatter chart to show the correlation between payload and launch success\n                                html.Div(dcc.Graph(id='success-payload-scatter-chart')),\n                                ])\n\n# TASK 2:\n# Add a callback function for `site-dropdown` as input, `success-pie-chart` as output\n\n@app.callback(Output(component_id='success-pie-chart', component_property='figure'),\n              Input(component_id='site-dropdown', component_property='value'))\n\ndef get_pie_chart(entered_site):\n    filtered_df = spacex_df.groupby('Launch Site')['class'].value_counts().to_frame()\n    filtered_df.columns = ['Success']\n    filtered_df = filtered_df.reset_index()\n    filtered_df['class'] = filtered_df['class'].map({1: 'Success', 0: 'Failure'})\n    \n    \n    if entered_site == 'ALL':\n        filtered_df = filtered_df[filtered_df['class'] == 'Success']\n        fig = px.pie(filtered_df, \n                     values= 'Success',  \n                    names='Launch Site', \n                    title='Total Success launches by site')\n        return fig\n    else:\n        # return the outcomes piechart for a selected site\n\n        filtered_df = filtered_df[filtered_df['Launch Site'] == entered_site]\n        fig = px.pie(filtered_df, \n                     values='Success', \n                    names='class', \n                    title= 'Total success lunches by cite ' + entered_site)\n        \n        return fig\n\n# TASK 4:\n# Add a callback function for `site-dropdown` and `payload-slider` as inputs, `success-payload-scatter-chart` as output\n@app.callback(Output(component_id='success-payload-scatter-chart', component_property='figure'),\n              [Input(component_id='site-dropdown', component_property='value'),\n              Input(component_id='payload-slider', component_property='value')])\n\ndef something(site_dropdown, payload_slider ):   \n    if site_dropdown == 'ALL':\n        payload_slider == [min_payload, max_payload]\n        payload_mask = (spacex_df['Payload Mass (kg)'] >= payload_slider[0]) & (spacex_df['Payload Mass (kg)'] <= payload_slider [1])\n        payload_data = spacex_df[payload_mask]\n        fig = px.scatter(payload_data, x= 'Payload Mass (kg)', y = 'class', color= 'Booster Version Category')\n        return fig\n        \n    else:\n        filtered_data = spacex_df[spacex_df['Launch Site'] ==  site_dropdown]\n        payload_mask = (filtered_data['Payload Mass (kg)'] >= payload_slider[0]) & (filtered_data['Payload Mass (kg)'] <= payload_slider [1])\n        payload_data = filtered_data[payload_mask]\n        fig = px.scatter(payload_data, x= 'Payload Mass (kg)', y = 'class', color= 'Booster Version Category')\n        return fig\n \n    \n\n# Run the app\nif __name__ == '__main__':\n    app.run_server()",
      "metadata": {
        "trusted": true
      },
      "outputs": [],
      "execution_count": null
    },
    {
      "cell_type": "markdown",
      "source": "**Q:Which site has the largest successful launches?**\n-A:KSC LC-39A has the largest success rate with about 41.7% of the total success ratio with other sites\n**Q:Which site has the highest launch success rate?**\nKSC LC-39A also has the highest success rate with about 76.9%\nWhich payload range(s) has the highest launch success rate?**\nPayload ranging from 2000kg to 4500 kg had the highest launch success rate\nWhich payload range(s) has the lowest launch success rate?**\nPayload ranging from 0kg to 2000kg and also payload higher than 5500 kg has the lowest success rate\nWhich F9 Booster version (v1.0, v1.1, FT, B4, B5, etc.) has the highest launch success rate?**\nF9 Booster version FT has the highest success rate\n\n\n\n",
      "metadata": {}
    }
  ]
}